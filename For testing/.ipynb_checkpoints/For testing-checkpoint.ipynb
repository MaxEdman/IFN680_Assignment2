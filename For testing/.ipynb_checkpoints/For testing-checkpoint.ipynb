{
 "cells": [
  {
   "cell_type": "code",
   "execution_count": null,
   "metadata": {},
   "outputs": [],
   "source": [
    "import siamese as sm\n",
    "sm.stage_learning()"
   ]
  },
  {
   "cell_type": "code",
   "execution_count": 1,
   "metadata": {},
   "outputs": [
    {
     "name": "stderr",
     "output_type": "stream",
     "text": [
      "Using TensorFlow backend.\n"
     ]
    },
    {
     "name": "stdout",
     "output_type": "stream",
     "text": [
      "input_shape: (28, 28)\n",
      "input_a: Tensor(\"input_2:0\", shape=(?, 28, 28), dtype=float32)\n",
      "base_network: <keras.engine.training.Model object at 0xb2f834668>\n",
      "Train on 108400 samples, validate on 17820 samples\n",
      "Epoch 1/1\n",
      "108400/108400 [==============================] - 6s 57us/step - loss: 0.0971 - accuracy: 0.8836 - val_loss: 0.0447 - val_accuracy: 0.9488\n",
      "* Accuracy on training set: 95.40%\n",
      "* Accuracy on test set: 94.88%\n"
     ]
    }
   ],
   "source": [
    "import test_mnist_siamese as test\n",
    "test.main()"
   ]
  },
  {
   "cell_type": "code",
   "execution_count": null,
   "metadata": {},
   "outputs": [],
   "source": [
    "import test_my_submission as test2\n",
    "test2.simplistic_solution()"
   ]
  },
  {
   "cell_type": "code",
   "execution_count": null,
   "metadata": {},
   "outputs": [],
   "source": [
    "import final_shit as testing_shit\n"
   ]
  },
  {
   "cell_type": "code",
   "execution_count": null,
   "metadata": {},
   "outputs": [],
   "source": []
  }
 ],
 "metadata": {
  "kernelspec": {
   "display_name": "Python 3",
   "language": "python",
   "name": "python3"
  },
  "language_info": {
   "codemirror_mode": {
    "name": "ipython",
    "version": 3
   },
   "file_extension": ".py",
   "mimetype": "text/x-python",
   "name": "python",
   "nbconvert_exporter": "python",
   "pygments_lexer": "ipython3",
   "version": "3.6.5"
  }
 },
 "nbformat": 4,
 "nbformat_minor": 2
}
