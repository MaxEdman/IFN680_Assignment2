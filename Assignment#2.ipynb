{
 "cells": [
  {
   "cell_type": "code",
   "execution_count": 1,
   "metadata": {},
   "outputs": [
    {
     "name": "stderr",
     "output_type": "stream",
     "text": [
      "Using TensorFlow backend.\n"
     ]
    }
   ],
   "source": [
    "import numpy as np\n",
    "import my_submission as ms\n",
    "import matplotlib.pyplot as plt"
   ]
  },
  {
   "cell_type": "code",
   "execution_count": 2,
   "metadata": {},
   "outputs": [
    {
     "name": "stdout",
     "output_type": "stream",
     "text": [
      "[name: \"/device:CPU:0\"\n",
      "device_type: \"CPU\"\n",
      "memory_limit: 268435456\n",
      "locality {\n",
      "}\n",
      "incarnation: 6031134460029770079\n",
      "]\n"
     ]
    }
   ],
   "source": [
    "from tensorflow.python.client import device_lib\n",
    "print(device_lib.list_local_devices())"
   ]
  },
  {
   "cell_type": "code",
   "execution_count": 3,
   "metadata": {},
   "outputs": [
    {
     "name": "stdout",
     "output_type": "stream",
     "text": [
      "x_train :  (33149, 28, 28) uint8\n",
      "y_train :  (33149,) uint8\n",
      "x_test :  (36851, 28, 28) uint8\n",
      "y_test :  (36851,) uint8\n"
     ]
    }
   ],
   "source": [
    "#ms.save_mnist_dataset()\n",
    "# Loads the already preprocessed dataset.\n",
    "(x_train, y_train), (x_test, y_test) = ms.load_mnist_dataset()\n",
    "print('x_train : ', x_train.shape, x_train.dtype)\n",
    "print('y_train : ', y_train.shape, y_train.dtype)\n",
    "print('x_test : ', x_test.shape, x_test.dtype)\n",
    "print('y_test : ', y_test.shape, y_test.dtype)\n",
    "\n",
    "#x_train, y_train, x_test, y_test = ms.preprocess_mnist_dataset(x_train, y_train, x_test, y_test)\n",
    "# Saves the preprocessed dataset locally as a .npz file.\n",
    "#np.savez('mnist_dataset.npz', x_train = x_train, y_train = y_train, x_test = x_test, y_test = y_test)\n"
   ]
  },
  {
   "cell_type": "code",
   "execution_count": 4,
   "metadata": {},
   "outputs": [
    {
     "name": "stdout",
     "output_type": "stream",
     "text": [
      "Unique numbers in train set (shouldn't be any of the 0,1,8 or 9):\n"
     ]
    },
    {
     "data": {
      "text/plain": [
       "{2: 5638, 3: 5700, 4: 5430, 5: 5031, 6: 5516, 7: 5834}"
      ]
     },
     "execution_count": 4,
     "metadata": {},
     "output_type": "execute_result"
    }
   ],
   "source": [
    "# Verifying that the split has been done correctly\n",
    "print(\"Unique numbers in train set (shouldn't be any of the 0,1,8 or 9):\")\n",
    "unique, counts = np.unique(y_train, return_counts=True)\n",
    "dict(zip(unique, counts))"
   ]
  },
  {
   "cell_type": "code",
   "execution_count": 5,
   "metadata": {},
   "outputs": [
    {
     "name": "stdout",
     "output_type": "stream",
     "text": [
      "Unique numbers in test set:\n"
     ]
    },
    {
     "data": {
      "text/plain": [
       "{0: 6903,\n",
       " 1: 7877,\n",
       " 2: 1352,\n",
       " 3: 1441,\n",
       " 4: 1394,\n",
       " 5: 1282,\n",
       " 6: 1360,\n",
       " 7: 1459,\n",
       " 8: 6825,\n",
       " 9: 6958}"
      ]
     },
     "execution_count": 5,
     "metadata": {},
     "output_type": "execute_result"
    }
   ],
   "source": [
    "# Verifying that the split has been done correctly\n",
    "print(\"Unique numbers in test set:\")\n",
    "unique, counts = np.unique(y_test, return_counts=True)\n",
    "dict(zip(unique, counts))"
   ]
  },
  {
   "cell_type": "code",
   "execution_count": null,
   "metadata": {},
   "outputs": [
    {
     "name": "stdout",
     "output_type": "stream",
     "text": [
      "num_classes:  10\n",
      "x_train shape: (33149, 28, 28, 1)\n",
      "33149 train samples\n",
      "36851 test samples\n",
      "x_test shape:  (36851, 28, 28, 1)\n",
      "y_test shape:  (36851, 10)\n",
      "Train on 33149 samples, validate on 36851 samples\n",
      "Epoch 1/12\n",
      " 3200/33149 [=>............................] - ETA: 1:26 - loss: 1.0036 - acc: 0.6700"
     ]
    }
   ],
   "source": [
    "ms.build_CNN(x_train, y_train, x_test, y_test)"
   ]
  }
 ],
 "metadata": {
  "kernelspec": {
   "display_name": "Python 3",
   "language": "python",
   "name": "python3"
  },
  "language_info": {
   "codemirror_mode": {
    "name": "ipython",
    "version": 3
   },
   "file_extension": ".py",
   "mimetype": "text/x-python",
   "name": "python",
   "nbconvert_exporter": "python",
   "pygments_lexer": "ipython3",
   "version": "3.6.5"
  }
 },
 "nbformat": 4,
 "nbformat_minor": 2
}
