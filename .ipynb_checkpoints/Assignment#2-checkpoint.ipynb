{
 "cells": [
  {
   "cell_type": "code",
   "execution_count": 1,
   "metadata": {},
   "outputs": [
    {
     "name": "stderr",
     "output_type": "stream",
     "text": [
      "Using TensorFlow backend.\n"
     ]
    }
   ],
   "source": [
    "import numpy as np\n",
    "import my_submission as ms\n",
    "import matplotlib.pyplot as plt"
   ]
  },
  {
   "cell_type": "code",
   "execution_count": 2,
   "metadata": {},
   "outputs": [],
   "source": [
    "#from tensorflow.python.client import device_lib\n",
    "#print(device_lib.list_local_devices())"
   ]
  },
  {
   "cell_type": "code",
   "execution_count": 3,
   "metadata": {},
   "outputs": [],
   "source": [
    "#ms.save_mnist_dataset()\n",
    "# Loads the already preprocessed dataset.\n",
    "#(x_train, y_train), (x_test, y_test) = ms.load_mnist_dataset()\n",
    "#print('x_train : ', x_train.shape, x_train.dtype)\n",
    "#print('y_train : ', y_train.shape, y_train.dtype)\n",
    "#print('x_test : ', x_test.shape, x_test.dtype)\n",
    "#print('y_test : ', y_test.shape, y_test.dtype)\n",
    "\n",
    "#x_train, y_train, x_test, y_test = ms.preprocess_mnist_dataset(x_train, y_train, x_test, y_test)\n",
    "# Saves the preprocessed dataset locally as a .npz file.\n",
    "#np.savez('mnist_dataset.npz', x_train = x_train, y_train = y_train, x_test = x_test, y_test = y_test)\n"
   ]
  },
  {
   "cell_type": "code",
   "execution_count": 4,
   "metadata": {},
   "outputs": [],
   "source": [
    "# Verifying that the split has been done correctly\n",
    "#print(\"Unique numbers in train set (shouldn't be any of the 0,1,8 or 9):\")\n",
    "#unique, counts = np.unique(y_train, return_counts=True)\n",
    "#dict(zip(unique, counts))"
   ]
  },
  {
   "cell_type": "code",
   "execution_count": 5,
   "metadata": {},
   "outputs": [],
   "source": [
    "# Verifying that the split has been done correctly\n",
    "#print(\"Unique numbers in test set:\")\n",
    "#unique, counts = np.unique(y_test, return_counts=True)\n",
    "#dict(zip(unique, counts))"
   ]
  },
  {
   "cell_type": "code",
   "execution_count": 6,
   "metadata": {},
   "outputs": [
    {
     "name": "stdout",
     "output_type": "stream",
     "text": [
      "input_trainset:  (33149, 28, 28, 1)\n",
      "target_trainset:  (33149,)\n",
      "input_testset1:  (8288, 28, 28, 1)\n",
      "target_testset1:  (8288,)\n",
      "input_testset2:  (28563, 28, 28, 1)\n",
      "target_testset2:  (28563,)\n",
      "input_testset3:  (36851, 28, 28, 1)\n",
      "target_testset3:  (36851,)\n",
      "set1_digits [2, 3, 4, 5, 6, 7]\n",
      "--------------------\n",
      "training_pairs:  (59760, 2, 28, 28, 1)\n",
      "training_target:  (59760,)\n",
      "--------------------\n",
      "test_pairs_set1:  (15816, 2, 28, 28, 1)\n",
      "test_target_set1:  (15816,)\n",
      "--------------------\n",
      "test_pairs_set2:  (54592, 2, 28, 28, 1)\n",
      "test_target_set2:  (54592,)\n",
      "--------------------\n",
      "test_pairs_set3:  (26360, 2, 28, 28, 1)\n",
      "test_target_set3:  (26360,)\n",
      "--------------------\n",
      "Train on 59760 samples, validate on 15816 samples\n",
      "Epoch 1/1\n",
      "59760/59760 [==============================] - 322s 5ms/step - loss: 0.5593 - accuracy: 0.8498 - val_loss: 0.4342 - val_accuracy: 0.9195\n",
      "* Accuracy on training set: 92.09%\n",
      "* Accuracy on test set 1: 91.95%\n",
      "* Accuracy on test set 2: 66.43%\n",
      "* Accuracy on test set 3: 78.94%\n"
     ]
    }
   ],
   "source": [
    "#ms.build_CNN(x_train, y_train, x_test, y_test)\n",
    "ms.siamese_network()"
   ]
  },
  {
   "cell_type": "code",
   "execution_count": null,
   "metadata": {},
   "outputs": [],
   "source": []
  }
 ],
 "metadata": {
  "kernelspec": {
   "display_name": "Python 3",
   "language": "python",
   "name": "python3"
  },
  "language_info": {
   "codemirror_mode": {
    "name": "ipython",
    "version": 3
   },
   "file_extension": ".py",
   "mimetype": "text/x-python",
   "name": "python",
   "nbconvert_exporter": "python",
   "pygments_lexer": "ipython3",
   "version": "3.6.5"
  }
 },
 "nbformat": 4,
 "nbformat_minor": 2
}
