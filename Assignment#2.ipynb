{
 "cells": [
  {
   "cell_type": "code",
   "execution_count": 1,
   "metadata": {},
   "outputs": [],
   "source": [
    "import numpy as np\n",
    "import my_submission as ms\n",
    "import matplotlib.pyplot as plt"
   ]
  },
  {
   "cell_type": "code",
   "execution_count": 2,
   "metadata": {},
   "outputs": [
    {
     "name": "stdout",
     "output_type": "stream",
     "text": [
      "x_train :  (60000, 28, 28) uint8\n",
      "y_train :  (60000,) uint8\n",
      "x_test :  (10000, 28, 28) uint8\n",
      "y_test :  (10000,) uint8\n"
     ]
    }
   ],
   "source": [
    "#ms.save_mnist_dataset()\n",
    "(x_train, y_train), (x_test, y_test) = ms.load_mnist_dataset()\n",
    "print('x_train : ', x_train.shape, x_train.dtype)\n",
    "print('y_train : ', y_train.shape, y_train.dtype)\n",
    "print('x_test : ', x_test.shape, x_test.dtype)\n",
    "print('y_test : ', y_test.shape, y_test.dtype)"
   ]
  },
  {
   "cell_type": "code",
   "execution_count": 22,
   "metadata": {},
   "outputs": [
    {
     "name": "stdout",
     "output_type": "stream",
     "text": [
      "x_train :  (33149, 28, 28) uint8\n",
      "y_train :  (33149,) uint8\n",
      "x_test :  (36851, 28, 28) uint8\n",
      "y_test :  (36851,) uint8\n"
     ]
    }
   ],
   "source": [
    "x_train, y_train, x_test, y_test = ms.preprocess_mnist_dataset(x_train, y_train, x_test, y_test)\n",
    "print('x_train : ', x_train.shape, x_train.dtype)\n",
    "print('y_train : ', y_train.shape, y_train.dtype)\n",
    "print('x_test : ', x_test.shape, x_test.dtype)\n",
    "print('y_test : ', y_test.shape, y_test.dtype)"
   ]
  },
  {
   "cell_type": "code",
   "execution_count": 29,
   "metadata": {},
   "outputs": [
    {
     "name": "stdout",
     "output_type": "stream",
     "text": [
      "Unique numbers in train set (shouldn't be any of the 0,1,8 or 9):\n"
     ]
    },
    {
     "data": {
      "text/plain": [
       "{2: 5601, 3: 5689, 4: 5459, 5: 5057, 6: 5503, 7: 5840}"
      ]
     },
     "execution_count": 29,
     "metadata": {},
     "output_type": "execute_result"
    }
   ],
   "source": [
    "print(\"Unique numbers in train set (shouldn't be any of the 0,1,8 or 9):\")\n",
    "unique, counts = np.unique(y_train, return_counts=True)\n",
    "dict(zip(unique, counts))"
   ]
  },
  {
   "cell_type": "code",
   "execution_count": 30,
   "metadata": {},
   "outputs": [
    {
     "name": "stdout",
     "output_type": "stream",
     "text": [
      "Unique numbers in test set:\n"
     ]
    },
    {
     "data": {
      "text/plain": [
       "{0: 6903,\n",
       " 1: 7877,\n",
       " 2: 1389,\n",
       " 3: 1452,\n",
       " 4: 1365,\n",
       " 5: 1256,\n",
       " 6: 1373,\n",
       " 7: 1453,\n",
       " 8: 6825,\n",
       " 9: 6958}"
      ]
     },
     "execution_count": 30,
     "metadata": {},
     "output_type": "execute_result"
    }
   ],
   "source": [
    "print(\"Unique numbers in test set:\")\n",
    "unique, counts = np.unique(y_test, return_counts=True)\n",
    "dict(zip(unique, counts))"
   ]
  },
  {
   "cell_type": "code",
   "execution_count": null,
   "metadata": {},
   "outputs": [],
   "source": []
  }
 ],
 "metadata": {
  "kernelspec": {
   "display_name": "Python 3",
   "language": "python",
   "name": "python3"
  },
  "language_info": {
   "codemirror_mode": {
    "name": "ipython",
    "version": 3
   },
   "file_extension": ".py",
   "mimetype": "text/x-python",
   "name": "python",
   "nbconvert_exporter": "python",
   "pygments_lexer": "ipython3",
   "version": "3.6.5"
  }
 },
 "nbformat": 4,
 "nbformat_minor": 2
}
