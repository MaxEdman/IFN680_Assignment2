{
 "cells": [
  {
   "cell_type": "code",
   "execution_count": 1,
   "metadata": {},
   "outputs": [
    {
     "name": "stderr",
     "output_type": "stream",
     "text": [
      "Using TensorFlow backend.\n"
     ]
    }
   ],
   "source": [
    "import numpy as np\n",
    "import my_submission as ms\n",
    "import matplotlib.pyplot as plt"
   ]
  },
  {
   "cell_type": "code",
   "execution_count": 2,
   "metadata": {},
   "outputs": [],
   "source": [
    "#from tensorflow.python.client import device_lib\n",
    "#print(device_lib.list_local_devices())"
   ]
  },
  {
   "cell_type": "code",
   "execution_count": 3,
   "metadata": {},
   "outputs": [
    {
     "name": "stdout",
     "output_type": "stream",
     "text": [
      "x_train :  (33149, 28, 28) uint8\n",
      "y_train :  (33149,) uint8\n",
      "x_test :  (36851, 28, 28) uint8\n",
      "y_test :  (36851,) uint8\n"
     ]
    }
   ],
   "source": [
    "#ms.save_mnist_dataset()\n",
    "# Loads the already preprocessed dataset.\n",
    "(x_train, y_train), (x_test, y_test) = ms.load_mnist_dataset()\n",
    "print('x_train : ', x_train.shape, x_train.dtype)\n",
    "print('y_train : ', y_train.shape, y_train.dtype)\n",
    "print('x_test : ', x_test.shape, x_test.dtype)\n",
    "print('y_test : ', y_test.shape, y_test.dtype)\n",
    "\n",
    "#x_train, y_train, x_test, y_test = ms.preprocess_mnist_dataset(x_train, y_train, x_test, y_test)\n",
    "# Saves the preprocessed dataset locally as a .npz file.\n",
    "#np.savez('mnist_dataset.npz', x_train = x_train, y_train = y_train, x_test = x_test, y_test = y_test)\n"
   ]
  },
  {
   "cell_type": "code",
   "execution_count": 4,
   "metadata": {},
   "outputs": [
    {
     "name": "stdout",
     "output_type": "stream",
     "text": [
      "Unique numbers in train set (shouldn't be any of the 0,1,8 or 9):\n"
     ]
    },
    {
     "data": {
      "text/plain": [
       "{2: 5638, 3: 5700, 4: 5430, 5: 5031, 6: 5516, 7: 5834}"
      ]
     },
     "execution_count": 4,
     "metadata": {},
     "output_type": "execute_result"
    }
   ],
   "source": [
    "# Verifying that the split has been done correctly\n",
    "print(\"Unique numbers in train set (shouldn't be any of the 0,1,8 or 9):\")\n",
    "unique, counts = np.unique(y_train, return_counts=True)\n",
    "dict(zip(unique, counts))"
   ]
  },
  {
   "cell_type": "code",
   "execution_count": 5,
   "metadata": {},
   "outputs": [
    {
     "name": "stdout",
     "output_type": "stream",
     "text": [
      "Unique numbers in test set:\n"
     ]
    },
    {
     "data": {
      "text/plain": [
       "{0: 6903,\n",
       " 1: 7877,\n",
       " 2: 1352,\n",
       " 3: 1441,\n",
       " 4: 1394,\n",
       " 5: 1282,\n",
       " 6: 1360,\n",
       " 7: 1459,\n",
       " 8: 6825,\n",
       " 9: 6958}"
      ]
     },
     "execution_count": 5,
     "metadata": {},
     "output_type": "execute_result"
    }
   ],
   "source": [
    "# Verifying that the split has been done correctly\n",
    "print(\"Unique numbers in test set:\")\n",
    "unique, counts = np.unique(y_test, return_counts=True)\n",
    "dict(zip(unique, counts))"
   ]
  },
  {
   "cell_type": "code",
   "execution_count": null,
   "metadata": {},
   "outputs": [
    {
     "name": "stdout",
     "output_type": "stream",
     "text": [
      "x1_train:  (33149, 28, 28, 1)\n",
      "y1_train:  (33149,)\n",
      "x1_test:  (36851, 28, 28, 1)\n",
      "y1_test:  (36851,)\n",
      "x2_train:  (60000, 28, 28, 1)\n",
      "y2_train:  (60000,)\n",
      "x2_test:  (10000, 28, 28, 1)\n",
      "y2_test:  (10000,)\n",
      "digit_indices1.len:  6\n",
      "range(num_classes):  range(2, 8)\n",
      "digit_indices2:  10\n",
      "tr1_pairs:  (60360,)\n",
      "tr1_y:  (60360,)\n",
      "te1_pairs:  (25620, 2, 28, 28, 1)\n",
      "te1_y:  (25620,)\n",
      "tr2_pairs:  (108400, 2, 28, 28, 1)\n",
      "tr2_y:  (108400,)\n",
      "te2_pairs:  (17820, 2, 28, 28, 1)\n",
      "te2_y:  (17820,)\n",
      "input_shape1: (28, 28, 1)\n",
      "input_shape2: (28, 28, 1)\n",
      "num_classes:  10\n",
      "image_vector_shape_a: Tensor(\"input_1:0\", shape=(?, 28, 28, 1), dtype=float32)\n",
      "image_vector_shape_a: Tensor(\"input_2:0\", shape=(?, 28, 28, 1), dtype=float32)\n",
      "tr1_pairs:  (60360,)\n",
      "tr1_y:  (60360,)\n",
      "te1_pairs:  (25620, 2, 28, 28, 1)\n",
      "te1_y:  (25620,)\n",
      "tr2_pairs:  (108400, 2, 28, 28, 1)\n",
      "tr2_y:  (108400,)\n",
      "te2_pairs:  (17820, 2, 28, 28, 1)\n",
      "te2_y:  (17820,)\n",
      "Train on 108400 samples, validate on 17820 samples\n",
      "Epoch 1/1\n",
      "  1536/108400 [..............................] - ETA: 9:30 - loss: 0.6285"
     ]
    }
   ],
   "source": [
    "#ms.build_CNN(x_train, y_train, x_test, y_test)\n",
    "ms.siamese_network(x_train, y_train, x_test, y_test)"
   ]
  },
  {
   "cell_type": "code",
   "execution_count": null,
   "metadata": {},
   "outputs": [],
   "source": []
  }
 ],
 "metadata": {
  "kernelspec": {
   "display_name": "Python 3",
   "language": "python",
   "name": "python3"
  },
  "language_info": {
   "codemirror_mode": {
    "name": "ipython",
    "version": 3
   },
   "file_extension": ".py",
   "mimetype": "text/x-python",
   "name": "python",
   "nbconvert_exporter": "python",
   "pygments_lexer": "ipython3",
   "version": "3.6.5"
  }
 },
 "nbformat": 4,
 "nbformat_minor": 2
}
