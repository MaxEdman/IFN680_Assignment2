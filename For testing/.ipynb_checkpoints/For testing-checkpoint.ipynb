{
 "cells": [
  {
   "cell_type": "code",
   "execution_count": null,
   "metadata": {},
   "outputs": [],
   "source": [
    "import siamese as sm\n",
    "sm.stage_learning()"
   ]
  },
  {
   "cell_type": "code",
   "execution_count": null,
   "metadata": {},
   "outputs": [],
   "source": [
    "import test_mnist_siamese as test\n",
    "test.main()"
   ]
  },
  {
   "cell_type": "code",
   "execution_count": null,
   "metadata": {},
   "outputs": [],
   "source": [
    "import test_my_submission as test2\n",
    "test2.simplistic_solution()"
   ]
  },
  {
   "cell_type": "code",
   "execution_count": null,
   "metadata": {},
   "outputs": [
    {
     "name": "stdout",
     "output_type": "stream",
     "text": [
      "Train on 14512 samples, validate on 3628 samples\n",
      "Epoch 1/10\n",
      "14512/14512 [==============================] - 31s 2ms/step - loss: 0.1582 - accuracy: 0.7771 - val_loss: 0.1032 - val_accuracy: 0.8625\n",
      "Epoch 2/10\n",
      "14512/14512 [==============================] - 23s 2ms/step - loss: 0.0826 - accuracy: 0.8904 - val_loss: 0.0705 - val_accuracy: 0.9096\n",
      "Epoch 3/10\n",
      "14512/14512 [==============================] - 23s 2ms/step - loss: 0.0549 - accuracy: 0.9269 - val_loss: 0.0414 - val_accuracy: 0.9451\n",
      "Epoch 4/10\n",
      "14512/14512 [==============================] - 27s 2ms/step - loss: 0.0325 - accuracy: 0.9602 - val_loss: 0.0246 - val_accuracy: 0.9705\n",
      "Epoch 5/10\n",
      "14512/14512 [==============================] - 28s 2ms/step - loss: 0.0241 - accuracy: 0.9719 - val_loss: 0.0213 - val_accuracy: 0.9741\n",
      "Epoch 6/10\n",
      "14512/14512 [==============================] - 28s 2ms/step - loss: 0.0191 - accuracy: 0.9765 - val_loss: 0.0182 - val_accuracy: 0.9774\n",
      "Epoch 7/10\n",
      "14512/14512 [==============================] - 25s 2ms/step - loss: 0.0150 - accuracy: 0.9813 - val_loss: 0.0142 - val_accuracy: 0.9848\n",
      "Epoch 8/10\n",
      "14512/14512 [==============================] - 25s 2ms/step - loss: 0.0136 - accuracy: 0.9839 - val_loss: 0.0120 - val_accuracy: 0.9870\n",
      "Epoch 9/10\n",
      "14512/14512 [==============================] - 23s 2ms/step - loss: 0.0121 - accuracy: 0.9865 - val_loss: 0.0121 - val_accuracy: 0.9881\n",
      "Epoch 10/10\n",
      "14512/14512 [==============================] - 24s 2ms/step - loss: 0.0118 - accuracy: 0.9863 - val_loss: 0.0108 - val_accuracy: 0.9887\n",
      "* Accuracy on training set: 99.51%\n",
      "* Accuracy on test set_1: 98.47%\n",
      "* Accuracy on test set_2: 65.47%\n",
      "* Accuracy on test set_3: 88.00%\n",
      "Epoch 1/10\n",
      "16325/16325 [==============================] - 28s 2ms/step - loss: 0.0104 - accuracy: 0.9878\n",
      "Epoch 2/10\n",
      "16325/16325 [==============================] - 25s 2ms/step - loss: 0.0095 - accuracy: 0.9890\n",
      "Epoch 3/10\n",
      "16325/16325 [==============================] - 25s 2ms/step - loss: 0.0090 - accuracy: 0.9900\n",
      "Epoch 4/10\n",
      "16325/16325 [==============================] - 26s 2ms/step - loss: 0.0079 - accuracy: 0.9911\n",
      "Epoch 5/10\n",
      "16325/16325 [==============================] - 28s 2ms/step - loss: 0.0083 - accuracy: 0.9906\n",
      "Epoch 6/10\n",
      "11520/16325 [====================>.........] - ETA: 7s - loss: 0.0070 - accuracy: 0.9924"
     ]
    }
   ],
   "source": [
    "import final_2 as testing_shit\n"
   ]
  },
  {
   "cell_type": "code",
   "execution_count": null,
   "metadata": {},
   "outputs": [],
   "source": []
  }
 ],
 "metadata": {
  "kernelspec": {
   "display_name": "Python 3",
   "language": "python",
   "name": "python3"
  },
  "language_info": {
   "codemirror_mode": {
    "name": "ipython",
    "version": 3
   },
   "file_extension": ".py",
   "mimetype": "text/x-python",
   "name": "python",
   "nbconvert_exporter": "python",
   "pygments_lexer": "ipython3",
   "version": "3.6.5"
  }
 },
 "nbformat": 4,
 "nbformat_minor": 2
}
