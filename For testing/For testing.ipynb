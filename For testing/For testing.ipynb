{
 "cells": [
  {
   "cell_type": "code",
   "execution_count": null,
   "metadata": {},
   "outputs": [],
   "source": [
    "import siamese as sm\n",
    "sm.stage_learning()"
   ]
  },
  {
   "cell_type": "code",
   "execution_count": 1,
   "metadata": {},
   "outputs": [
    {
     "name": "stderr",
     "output_type": "stream",
     "text": [
      "Using TensorFlow backend.\n"
     ]
    },
    {
     "name": "stdout",
     "output_type": "stream",
     "text": [
      "input_shape: (28, 28)\n",
      "input_a: Tensor(\"input_2:0\", shape=(?, 28, 28), dtype=float32)\n",
      "base_network: <keras.engine.training.Model object at 0xb2f834668>\n",
      "Train on 108400 samples, validate on 17820 samples\n",
      "Epoch 1/1\n",
      "108400/108400 [==============================] - 6s 57us/step - loss: 0.0971 - accuracy: 0.8836 - val_loss: 0.0447 - val_accuracy: 0.9488\n",
      "* Accuracy on training set: 95.40%\n",
      "* Accuracy on test set: 94.88%\n"
     ]
    }
   ],
   "source": [
    "import test_mnist_siamese as test\n",
    "test.main()"
   ]
  },
  {
   "cell_type": "code",
   "execution_count": null,
   "metadata": {},
   "outputs": [],
   "source": [
    "import test_my_submission as test2\n",
    "test2.simplistic_solution()"
   ]
  },
  {
   "cell_type": "code",
   "execution_count": 2,
   "metadata": {},
   "outputs": [
    {
     "name": "stdout",
     "output_type": "stream",
     "text": [
      "Train on 60468 samples, validate on 15264 samples\n",
      "Epoch 1/10\n",
      "60468/60468 [==============================] - 5s 81us/step - loss: 0.0914 - accuracy: 0.8959 - val_loss: 0.0337 - val_accuracy: 0.9696\n",
      "Epoch 2/10\n",
      "60468/60468 [==============================] - 3s 56us/step - loss: 0.0263 - accuracy: 0.9781 - val_loss: 0.0232 - val_accuracy: 0.9744\n",
      "Epoch 3/10\n",
      "60468/60468 [==============================] - 3s 57us/step - loss: 0.0147 - accuracy: 0.9865 - val_loss: 0.0196 - val_accuracy: 0.9777\n",
      "Epoch 4/10\n",
      "60468/60468 [==============================] - 3s 53us/step - loss: 0.0100 - accuracy: 0.9907 - val_loss: 0.0191 - val_accuracy: 0.9786\n",
      "Epoch 5/10\n",
      "60468/60468 [==============================] - 3s 54us/step - loss: 0.0077 - accuracy: 0.9921 - val_loss: 0.0186 - val_accuracy: 0.9788\n",
      "Epoch 6/10\n",
      "60468/60468 [==============================] - 3s 52us/step - loss: 0.0064 - accuracy: 0.9935 - val_loss: 0.0174 - val_accuracy: 0.9810\n",
      "Epoch 7/10\n",
      "60468/60468 [==============================] - 3s 52us/step - loss: 0.0053 - accuracy: 0.9945 - val_loss: 0.0175 - val_accuracy: 0.9801\n",
      "Epoch 8/10\n",
      "60468/60468 [==============================] - 3s 54us/step - loss: 0.0047 - accuracy: 0.9950 - val_loss: 0.0179 - val_accuracy: 0.9796\n",
      "Epoch 9/10\n",
      "60468/60468 [==============================] - 3s 55us/step - loss: 0.0042 - accuracy: 0.9956 - val_loss: 0.0162 - val_accuracy: 0.9824\n",
      "Epoch 10/10\n",
      "60468/60468 [==============================] - 3s 56us/step - loss: 0.0039 - accuracy: 0.9958 - val_loss: 0.0178 - val_accuracy: 0.9811\n",
      "* Accuracy on training set: 99.85%\n",
      "* Accuracy on test set: 98.11%\n",
      "Train on 60468 samples, validate on 54592 samples\n",
      "Epoch 1/10\n",
      "60468/60468 [==============================] - 4s 73us/step - loss: 0.0034 - accuracy: 0.9964 - val_loss: 0.3150 - val_accuracy: 0.6325\n",
      "Epoch 2/10\n",
      "60468/60468 [==============================] - 4s 66us/step - loss: 0.0032 - accuracy: 0.9967 - val_loss: 0.3110 - val_accuracy: 0.6270\n",
      "Epoch 3/10\n",
      "60468/60468 [==============================] - 4s 72us/step - loss: 0.0028 - accuracy: 0.9973 - val_loss: 0.3440 - val_accuracy: 0.6057\n",
      "Epoch 4/10\n",
      "60468/60468 [==============================] - 4s 71us/step - loss: 0.0028 - accuracy: 0.9973 - val_loss: 0.3101 - val_accuracy: 0.6382\n",
      "Epoch 5/10\n",
      "60468/60468 [==============================] - 4s 60us/step - loss: 0.0029 - accuracy: 0.9969 - val_loss: 0.3343 - val_accuracy: 0.6111\n",
      "Epoch 6/10\n",
      "60468/60468 [==============================] - 4s 65us/step - loss: 0.0026 - accuracy: 0.9972 - val_loss: 0.3497 - val_accuracy: 0.6099\n",
      "Epoch 7/10\n",
      "60468/60468 [==============================] - 4s 69us/step - loss: 0.0027 - accuracy: 0.9971 - val_loss: 0.3409 - val_accuracy: 0.6214\n",
      "Epoch 8/10\n",
      "60468/60468 [==============================] - 4s 61us/step - loss: 0.0027 - accuracy: 0.9971 - val_loss: 0.3454 - val_accuracy: 0.6029\n",
      "Epoch 9/10\n",
      "60468/60468 [==============================] - 4s 60us/step - loss: 0.0025 - accuracy: 0.9973 - val_loss: 0.3438 - val_accuracy: 0.6119\n",
      "Epoch 10/10\n",
      "60468/60468 [==============================] - 4s 68us/step - loss: 0.0024 - accuracy: 0.9973 - val_loss: 0.3650 - val_accuracy: 0.6020\n",
      "* Accuracy on training set: 99.90%\n",
      "* Accuracy on test set: 60.20%\n",
      "Train on 60468 samples, validate on 25440 samples\n",
      "Epoch 1/10\n",
      "60468/60468 [==============================] - 4s 66us/step - loss: 0.0026 - accuracy: 0.9970 - val_loss: 0.1693 - val_accuracy: 0.8116\n",
      "Epoch 2/10\n",
      "60468/60468 [==============================] - 3s 53us/step - loss: 0.0023 - accuracy: 0.9974 - val_loss: 0.1658 - val_accuracy: 0.8129\n",
      "Epoch 3/10\n",
      "60468/60468 [==============================] - 3s 54us/step - loss: 0.0021 - accuracy: 0.9978 - val_loss: 0.1677 - val_accuracy: 0.8129\n",
      "Epoch 4/10\n",
      "60468/60468 [==============================] - 3s 53us/step - loss: 0.0026 - accuracy: 0.9972 - val_loss: 0.1623 - val_accuracy: 0.8163\n",
      "Epoch 5/10\n",
      "60468/60468 [==============================] - 3s 58us/step - loss: 0.0024 - accuracy: 0.9974 - val_loss: 0.1686 - val_accuracy: 0.8138\n",
      "Epoch 6/10\n",
      "60468/60468 [==============================] - 4s 60us/step - loss: 0.0022 - accuracy: 0.9975 - val_loss: 0.1676 - val_accuracy: 0.8121\n",
      "Epoch 7/10\n",
      "60468/60468 [==============================] - 4s 59us/step - loss: 0.0022 - accuracy: 0.9976 - val_loss: 0.1671 - val_accuracy: 0.8097\n",
      "Epoch 8/10\n",
      "60468/60468 [==============================] - 4s 64us/step - loss: 0.0021 - accuracy: 0.9978 - val_loss: 0.1724 - val_accuracy: 0.8101\n",
      "Epoch 9/10\n",
      "60468/60468 [==============================] - 4s 61us/step - loss: 0.0023 - accuracy: 0.9975 - val_loss: 0.1676 - val_accuracy: 0.8108\n",
      "Epoch 10/10\n",
      "60468/60468 [==============================] - 4s 65us/step - loss: 0.0021 - accuracy: 0.9978 - val_loss: 0.1661 - val_accuracy: 0.8123\n",
      "* Accuracy on training set: 99.94%\n",
      "* Accuracy on test set: 81.23%\n"
     ]
    }
   ],
   "source": [
    "import final_shit as testing_shit\n"
   ]
  },
  {
   "cell_type": "code",
   "execution_count": null,
   "metadata": {},
   "outputs": [],
   "source": []
  }
 ],
 "metadata": {
  "kernelspec": {
   "display_name": "Python 3",
   "language": "python",
   "name": "python3"
  },
  "language_info": {
   "codemirror_mode": {
    "name": "ipython",
    "version": 3
   },
   "file_extension": ".py",
   "mimetype": "text/x-python",
   "name": "python",
   "nbconvert_exporter": "python",
   "pygments_lexer": "ipython3",
   "version": "3.6.5"
  }
 },
 "nbformat": 4,
 "nbformat_minor": 2
}
