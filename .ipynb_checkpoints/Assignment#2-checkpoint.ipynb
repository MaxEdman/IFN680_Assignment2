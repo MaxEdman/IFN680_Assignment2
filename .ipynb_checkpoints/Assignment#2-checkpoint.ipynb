{
 "cells": [
  {
   "cell_type": "code",
   "execution_count": 1,
   "metadata": {},
   "outputs": [
    {
     "name": "stderr",
     "output_type": "stream",
     "text": [
      "Using TensorFlow backend.\n"
     ]
    }
   ],
   "source": [
    "import numpy as np\n",
    "import my_submission as ms\n",
    "import matplotlib.pyplot as plt"
   ]
  },
  {
   "cell_type": "code",
   "execution_count": 2,
   "metadata": {},
   "outputs": [],
   "source": [
    "#from tensorflow.python.client import device_lib\n",
    "#print(device_lib.list_local_devices())"
   ]
  },
  {
   "cell_type": "code",
   "execution_count": 3,
   "metadata": {},
   "outputs": [],
   "source": [
    "#ms.save_mnist_dataset()\n",
    "# Loads the already preprocessed dataset.\n",
    "#(x_train, y_train), (x_test, y_test) = ms.load_mnist_dataset()\n",
    "#print('x_train : ', x_train.shape, x_train.dtype)\n",
    "#print('y_train : ', y_train.shape, y_train.dtype)\n",
    "#print('x_test : ', x_test.shape, x_test.dtype)\n",
    "#print('y_test : ', y_test.shape, y_test.dtype)\n",
    "\n",
    "#x_train, y_train, x_test, y_test = ms.preprocess_mnist_dataset(x_train, y_train, x_test, y_test)\n",
    "# Saves the preprocessed dataset locally as a .npz file.\n",
    "#np.savez('mnist_dataset.npz', x_train = x_train, y_train = y_train, x_test = x_test, y_test = y_test)\n"
   ]
  },
  {
   "cell_type": "code",
   "execution_count": 4,
   "metadata": {},
   "outputs": [],
   "source": [
    "# Verifying that the split has been done correctly\n",
    "#print(\"Unique numbers in train set (shouldn't be any of the 0,1,8 or 9):\")\n",
    "#unique, counts = np.unique(y_train, return_counts=True)\n",
    "#dict(zip(unique, counts))"
   ]
  },
  {
   "cell_type": "code",
   "execution_count": 5,
   "metadata": {},
   "outputs": [],
   "source": [
    "# Verifying that the split has been done correctly\n",
    "#print(\"Unique numbers in test set:\")\n",
    "#unique, counts = np.unique(y_test, return_counts=True)\n",
    "#dict(zip(unique, counts))"
   ]
  },
  {
   "cell_type": "code",
   "execution_count": 6,
   "metadata": {},
   "outputs": [
    {
     "name": "stdout",
     "output_type": "stream",
     "text": [
      "x_train:  (8000, 28, 28, 1)\n",
      "y_train:  (8000,)\n",
      "x_test:  (8288, 28, 28, 1)\n",
      "y_test:  (8288,)\n",
      "train_digits [2, 3, 4, 5, 6, 7]\n",
      "tr_pairs:  (14220, 2, 28, 28, 1)\n",
      "tr_y:  (14220,)\n",
      "te_pairs:  (15408, 2, 28, 28, 1)\n",
      "te_y:  (15408,)\n",
      "Epoch 1/1\n",
      "14220/14220 [==============================] - 74s 5ms/step - loss: 0.2504 - accuracy: 0.5000\n",
      "* Accuracy on training set: 50.00%\n",
      "* Accuracy on test set: 50.00%\n"
     ]
    }
   ],
   "source": [
    "#ms.build_CNN(x_train, y_train, x_test, y_test)\n",
    "ms.siamese_network()"
   ]
  },
  {
   "cell_type": "code",
   "execution_count": null,
   "metadata": {},
   "outputs": [],
   "source": []
  }
 ],
 "metadata": {
  "kernelspec": {
   "display_name": "Python 3",
   "language": "python",
   "name": "python3"
  },
  "language_info": {
   "codemirror_mode": {
    "name": "ipython",
    "version": 3
   },
   "file_extension": ".py",
   "mimetype": "text/x-python",
   "name": "python",
   "nbconvert_exporter": "python",
   "pygments_lexer": "ipython3",
   "version": "3.6.5"
  }
 },
 "nbformat": 4,
 "nbformat_minor": 2
}
